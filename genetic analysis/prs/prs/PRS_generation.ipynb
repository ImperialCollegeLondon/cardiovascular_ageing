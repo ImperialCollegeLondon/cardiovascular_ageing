{
 "cells": [
  {
   "cell_type": "code",
   "execution_count": 1,
   "id": "ac4cefa9",
   "metadata": {},
   "outputs": [
    {
     "name": "stdout",
     "output_type": "stream",
     "text": [
      "--2022-09-09 12:24:22--  https://s3.amazonaws.com/plink2-assets/alpha3/plink2_linux_avx2_20220814.zip\n",
      "Resolving s3.amazonaws.com (s3.amazonaws.com)... 54.231.201.136\n",
      "Connecting to s3.amazonaws.com (s3.amazonaws.com)|54.231.201.136|:443... connected.\n",
      "HTTP request sent, awaiting response... 200 OK\n",
      "Length: 9134949 (8.7M) [application/zip]\n",
      "Saving to: ‘plink2_linux_avx2_20220814.zip’\n",
      "\n",
      "plink2_linux_avx2_2 100%[===================>]   8.71M  14.0MB/s    in 0.6s    \n",
      "\n",
      "2022-09-09 12:24:23 (14.0 MB/s) - ‘plink2_linux_avx2_20220814.zip’ saved [9134949/9134949]\n",
      "\n",
      "Archive:  plink2_linux_avx2_20220814.zip\n",
      "  inflating: plink2                  \n"
     ]
    }
   ],
   "source": [
    "wget https://s3.amazonaws.com/plink2-assets/alpha3/plink2_linux_avx2_20220814.zip\n",
    "unzip plink2_linux_avx2_20220814.zip"
   ]
  },
  {
   "cell_type": "code",
   "execution_count": 19,
   "id": "71f3bb48",
   "metadata": {},
   "outputs": [],
   "source": [
    "rm -f merge_list.txt\n",
    "cat << EOF >> merge_list.txt\n",
    "/mnt/project/cardiovascular-ageing/clumping-29k/ukb22828_c1_b0_v3.clumped\n",
    "/mnt/project/cardiovascular-ageing/clumping-29k/ukb22828_c2_b0_v3.clumped\n",
    "/mnt/project/cardiovascular-ageing/clumping-29k/ukb22828_c3_b0_v3.clumped\n",
    "/mnt/project/cardiovascular-ageing/clumping-29k/ukb22828_c4_b0_v3.clumped\n",
    "/mnt/project/cardiovascular-ageing/clumping-29k/ukb22828_c6_b0_v3.clumped\n",
    "/mnt/project/cardiovascular-ageing/clumping-29k/ukb22828_c5_b0_v3.clumped\n",
    "/mnt/project/cardiovascular-ageing/clumping-29k/ukb22828_c7_b0_v3.clumped\n",
    "/mnt/project/cardiovascular-ageing/clumping-29k/ukb22828_c8_b0_v3.clumped\n",
    "/mnt/project/cardiovascular-ageing/clumping-29k/ukb22828_c9_b0_v3.clumped\n",
    "/mnt/project/cardiovascular-ageing/clumping-29k/ukb22828_c10_b0_v3.clumped\n",
    "/mnt/project/cardiovascular-ageing/clumping-29k/ukb22828_c11_b0_v3.clumped\n",
    "/mnt/project/cardiovascular-ageing/clumping-29k/ukb22828_c12_b0_v3.clumped\n",
    "/mnt/project/cardiovascular-ageing/clumping-29k/ukb22828_c13_b0_v3.clumped\n",
    "/mnt/project/cardiovascular-ageing/clumping-29k/ukb22828_c14_b0_v3.clumped\n",
    "/mnt/project/cardiovascular-ageing/clumping-29k/ukb22828_c15_b0_v3.clumped\n",
    "/mnt/project/cardiovascular-ageing/clumping-29k/ukb22828_c16_b0_v3.clumped\n",
    "/mnt/project/cardiovascular-ageing/clumping-29k/ukb22828_c17_b0_v3.clumped\n",
    "/mnt/project/cardiovascular-ageing/clumping-29k/ukb22828_c18_b0_v3.clumped\n",
    "/mnt/project/cardiovascular-ageing/clumping-29k/ukb22828_c19_b0_v3.clumped\n",
    "/mnt/project/cardiovascular-ageing/clumping-29k/ukb22828_c20_b0_v3.clumped\n",
    "/mnt/project/cardiovascular-ageing/clumping-29k/ukb22828_c21_b0_v3.clumped\n",
    "/mnt/project/cardiovascular-ageing/clumping-29k/ukb22828_c22_b0_v3.clumped\n",
    "EOF"
   ]
  },
  {
   "cell_type": "code",
   "execution_count": 21,
   "id": "e00a9923",
   "metadata": {},
   "outputs": [],
   "source": [
    "rm -f range_list.txt\n",
    "cat << EOF >> range_list.txt\n",
    "1e-6 0 1e-6\n",
    "1e-5 0 1e-5\n",
    "1e-4 0 1e-4\n",
    "1e-3 0 1e-3\n",
    "1e-2 0 1e-2\n",
    "EOF"
   ]
  },
  {
   "cell_type": "code",
   "execution_count": 5,
   "id": "ab516dad",
   "metadata": {},
   "outputs": [],
   "source": [
    "cat /mnt/project/cardiovascular-ageing/clumping-29k/*.clumped | awk 'NR!=1{print $3}' >> all_clumped.tsv"
   ]
  },
  {
   "cell_type": "code",
   "execution_count": 6,
   "id": "ba06346a",
   "metadata": {},
   "outputs": [
    {
     "name": "stdout",
     "output_type": "stream",
     "text": [
      "\u001b[2K[===========================================================>] Completed 653,015,973 of 653,015,973 bytes (100%) /opt/notebooks/summarystats_plink_imputed_29k_european.txtt\n"
     ]
    }
   ],
   "source": [
    "dx download file-GGGpfKQJqQqffYQj8FqpJGQ3"
   ]
  },
  {
   "cell_type": "code",
   "execution_count": 7,
   "id": "6393defd",
   "metadata": {},
   "outputs": [],
   "source": [
    "awk '{print $3,$12}' summarystats_plink_imputed_29k_european.txt > SNP.pvalue"
   ]
  },
  {
   "cell_type": "code",
   "execution_count": 14,
   "id": "d83774d0",
   "metadata": {},
   "outputs": [],
   "source": [
    "mkdir -p merged"
   ]
  },
  {
   "cell_type": "code",
   "execution_count": 15,
   "id": "4c6888f3",
   "metadata": {},
   "outputs": [
    {
     "name": "stdout",
     "output_type": "stream",
     "text": [
      "PLINK v2.00a3.6LM AVX2 Intel (14 Aug 2022)     www.cog-genomics.org/plink/2.0/\n",
      "(C) 2005-2022 Shaun Purcell, Christopher Chang   GNU General Public License v3\n",
      "Logging to merged/all.log.\n",
      "Options in effect:\n",
      "  --make-bed\n",
      "  --out merged/all\n",
      "  --pmerge-list merge_list.txt bfile\n",
      "\n",
      "Start time: Fri Sep  9 12:52:44 2022\n",
      "31310 MiB RAM detected; reserving 15655 MiB for main workspace.\n",
      "Using up to 16 threads (change this with --threads).\n",
      "--pmerge-list: 44 filesets specified.\n",
      "\n"
     ]
    }
   ],
   "source": [
    "./plink2 --pmerge-list merge_list.txt bfile \\\n",
    "    --out merged/all --make-bed"
   ]
  },
  {
   "cell_type": "code",
   "execution_count": 20,
   "id": "dccc1d90",
   "metadata": {},
   "outputs": [],
   "source": [
    "mkdir -p scores"
   ]
  },
  {
   "cell_type": "code",
   "execution_count": 22,
   "id": "80f3f1b3",
   "metadata": {},
   "outputs": [
    {
     "name": "stdout",
     "output_type": "stream",
     "text": [
      "PLINK v2.00a3.6LM AVX2 Intel (14 Aug 2022)     www.cog-genomics.org/plink/2.0/\n",
      "(C) 2005-2022 Shaun Purcell, Christopher Chang   GNU General Public License v3\n",
      "Logging to scores/cmri_age_delta.log.\n",
      "Options in effect:\n",
      "  --bfile merged/all\n",
      "  --extract all_clumped.tsv\n",
      "  --out scores/cmri_age_delta\n",
      "  --q-score-range range_list.txt SNP.pvalue header\n",
      "  --score summarystats_plink_imputed_29k_european.txt 3 6 9 header list-variants\n",
      "\n",
      "Start time: Fri Sep  9 13:07:44 2022\n",
      "31310 MiB RAM detected; reserving 15655 MiB for main workspace.\n",
      "Using up to 16 threads (change this with --threads).\n",
      "487409 samples (264250 females, 222957 males, 202 ambiguous; 487409 founders)\n",
      "loaded from merged/all.fam.\n",
      "419406 variants loaded from merged/all.bim.\n",
      "Note: No phenotype data present.\n",
      "--extract: 419406 variants remaining.\n",
      "Calculating allele frequencies... 0%\n"
     ]
    }
   ],
   "source": [
    "./plink2 \\\n",
    "    --bfile merged/all \\\n",
    "    --score summarystats_plink_imputed_29k_european.txt 3 6 9 header list-variants \\\n",
    "    --q-score-range range_list.txt SNP.pvalue header \\\n",
    "    --extract all_clumped.tsv \\\n",
    "    --out scores/cmri_age_delta"
   ]
  },
  {
   "cell_type": "markdown",
   "id": "7a0117ed",
   "metadata": {},
   "source": [
    "```\n",
    "PLINK v2.00a3.6LM AVX2 Intel (14 Aug 2022)     www.cog-genomics.org/plink/2.0/\n",
    "(C) 2005-2022 Shaun Purcell, Christopher Chang   GNU General Public License v3\n",
    "Logging to c_age.log.\n",
    "Options in effect:\n",
    "  --bfile all\n",
    "  --extract all_clumped.tsv\n",
    "  --out c_age\n",
    "  --q-score-range range_list SNP.pvalue header\n",
    "  --score summarystats_plink_imputed_32k_european.txt 3 6 9 header\n",
    "\n",
    "Start time: Wed Aug 24 07:08:38 2022\n",
    "31086 MiB RAM detected; reserving 15543 MiB for main workspace.\n",
    "Using up to 16 threads (change this with --threads).\n",
    "487409 samples (264250 females, 222957 males, 202 ambiguous; 487409 founders)\n",
    "loaded from all.fam.\n",
    "419650 variants loaded from all.bim.\n",
    "Note: No phenotype data present.\n",
    "--extract: 419650 variants remaining.\n",
    "Calculating allele frequencies... done.\n",
    "419650 variants remaining after main filters.\n",
    "--q-score-range: 7 ranges and 419650 variants loaded.\n",
    "Warning: 8085401 lines skipped in --q-score-range data file.\n",
    "```\n"
   ]
  }
 ],
 "metadata": {
  "kernelspec": {
   "display_name": "Bash",
   "language": "bash",
   "name": "bash"
  },
  "language_info": {
   "codemirror_mode": "shell",
   "file_extension": ".sh",
   "mimetype": "text/x-sh",
   "name": "bash"
  }
 },
 "nbformat": 4,
 "nbformat_minor": 5
}
