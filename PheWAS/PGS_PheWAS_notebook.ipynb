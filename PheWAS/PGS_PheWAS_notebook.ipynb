{
 "cells": [
  {
   "cell_type": "markdown",
   "metadata": {},
   "source": [
    "### Notebook to run PheWAS for polygenic score on UKB traits\n",
    "##### Author: Sean L Zheng\n",
    "##### Date: 21-Sep 2022"
   ]
  },
  {
   "cell_type": "raw",
   "metadata": {},
   "source": [
    "library(data.table)\n",
    "library(PheWAS)"
   ]
  },
  {
   "cell_type": "markdown",
   "metadata": {},
   "source": [
    "#### Run if HPC capable of multicore processing"
   ]
  },
  {
   "cell_type": "raw",
   "metadata": {},
   "source": [
    "ncores <- detectCores()"
   ]
  },
  {
   "cell_type": "markdown",
   "metadata": {},
   "source": [
    "#### Set output file names and plot title"
   ]
  },
  {
   "cell_type": "raw",
   "metadata": {},
   "source": [
    "output_file <- 'lms-ware-analysis/live/sean/phewas/cardiac_aging/results/phewas.result.agedeltas.adjusted.150922.txt'\n",
    "png_file <- 'lms-ware-analysis/live/sean/phewas/cardiac_aging/results/phewas.result.agedeltas.adjusted.150922.pdf'\n",
    "plot_title <- 'Cardiac Age Delta PheWAS'"
   ]
  },
  {
   "cell_type": "markdown",
   "metadata": {},
   "source": [
    "#### Load in PRS scores, formating file to PheWAS format (ID, PRS score)"
   ]
  },
  {
   "cell_type": "raw",
   "metadata": {},
   "source": [
    "geno = read.csv(\"lms-ware-analysis/live/sean/phewas/cardiac_aging/age_deltas.csv\")\n",
    "link = fread('lms-ware-analysis/live/sean/Sample_Phenotype_Files/ukbb_eid_link_file.txt')\n",
    "geno1 = merge(geno, link, by='eid_40616')\n",
    "c = geno1[,c('eid_47602','catb_delta_with_t1_bc_cole')]\n",
    "colnames(c) <- c('id','variant')\n",
    "genotypes=as.data.frame((c),stringsAsFactors=FALSE)\n",
    "colnames(genotypes)[1]<-c(\"id\")\n",
    "genotypes$id<-as.integer(genotypes$id)\n",
    "genotypes <- genotypes[,c('id','variant')]"
   ]
  },
  {
   "cell_type": "markdown",
   "metadata": {},
   "source": [
    "#### Load in clinical data and covariates and join to form final clinical data frame"
   ]
  },
  {
   "cell_type": "raw",
   "metadata": {},
   "source": [
    "phenotypes<-fread(\"lms-ware-analysis/live/sean/phewas/ICD_wide.txt\",header=TRUE,sep=\"\\t\") #read data summary file\n",
    "covariates <- fread('lms-ware-analysis/live/sean/Sample_Phenotype_Files/ukbb_genetic_covariates_488k.txt')\n",
    "colnames(covariates)[1] = 'id'\n",
    "covariates$age2 = (covariates$age)^2\n",
    "data=inner_join(inner_join(phenotypes,genotypes) ,covariates)"
   ]
  },
  {
   "cell_type": "markdown",
   "metadata": {},
   "source": [
    "#### Run PheWAS"
   ]
  },
  {
   "cell_type": "raw",
   "metadata": {},
   "source": [
    "results=phewas(data=data,phenotypes=names(phenotypes),genotypes=\"variant\",covariates=c('age','age2','sex','pc1','pc2','pc3','pc4','pc5','pc6','pc7','pc8','pc9','pc10'), additive.genotypes=FALSE, cores=ncores,min.records=10)\n",
    "print('PheWAS analysis complete')\n",
    "write.table(results,output_file,row.names=FALSE,quote=FALSE,col.names=TRUE,sep=\"\\t\") #output"
   ]
  },
  {
   "cell_type": "markdown",
   "metadata": {},
   "source": [
    "#### Plot"
   ]
  },
  {
   "cell_type": "raw",
   "metadata": {},
   "source": [
    "pdf(png_file, width = 12, height = 8, useDingbats = F)\n",
    "phewasManhattan(results, title=plot_title, point.size=1, OR.direction=T, annotate.phenotype.description = T, annotate.size = 2)\n",
    "dev.off()"
   ]
  }
 ],
 "metadata": {
  "kernelspec": {
   "display_name": "Python 3",
   "language": "python",
   "name": "python3"
  },
  "language_info": {
   "codemirror_mode": {
    "name": "ipython",
    "version": 3
   },
   "file_extension": ".py",
   "mimetype": "text/x-python",
   "name": "python",
   "nbconvert_exporter": "python",
   "pygments_lexer": "ipython3",
   "version": "3.7.6"
  }
 },
 "nbformat": 4,
 "nbformat_minor": 4
}
