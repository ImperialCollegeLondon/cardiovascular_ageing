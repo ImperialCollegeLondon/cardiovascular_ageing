{
 "cells": [
  {
   "cell_type": "code",
   "execution_count": 1,
   "metadata": {
    "id": "lCF76KJpP7kI"
   },
   "outputs": [],
   "source": [
    "!pip install -q optuna catboost"
   ]
  },
  {
   "cell_type": "code",
   "execution_count": 2,
   "metadata": {
    "id": "y4hQ_g7NPnr6"
   },
   "outputs": [],
   "source": [
    "import numpy as np\n",
    "import scipy.stats as stats\n",
    "import pandas as pd\n",
    "import os\n",
    "import pickle\n",
    "\n",
    "import optuna\n",
    "import sklearn\n",
    "from sklearn.model_selection import train_test_split\n",
    "from catboost import CatBoostRegressor\n",
    "import statsmodels.formula.api as smf"
   ]
  },
  {
   "cell_type": "code",
   "execution_count": 3,
   "metadata": {
    "id": "3lbkK7I7Hj-i"
   },
   "outputs": [],
   "source": [
    "def mtest(self, x_test, y_test):\n",
    "    if len(y_test.shape) == 1:\n",
    "        y_test = y_test[:, None]\n",
    "    y_pred = self.predict(x_test)\n",
    "    diff = y_pred - y_test\n",
    "    se = diff**2\n",
    "    ss_res = se.sum()\n",
    "    ss_total = ((y_test - self.y_train_mean)**2).sum()\n",
    "    rsq = 1 - ss_res / ss_total\n",
    "    rmse = np.sqrt(se.mean())\n",
    "    mae = np.abs(diff).mean()\n",
    "    return dict(mae=mae, rmse=rmse, rsq=rsq)\n",
    "\n",
    "def train_with_hyp_search(x_trial, y_trial, esttype='catb', n_trials=30,\n",
    "                          optuna_sql_path='/dev/shm/optuna.sqlite3',\n",
    "                          optuna_storage_dir='/tmp/optuna_pkls'):\n",
    "\n",
    "    x_trial_train, x_trial_test, y_trial_train, y_trial_test = train_test_split(x_trial, y_trial, test_size=0.1, random_state=0)\n",
    "    if esttype != 'lasso':\n",
    "        x_trial_train, x_trial_val, y_trial_train, y_trial_val = train_test_split(x_trial_train, y_trial_train, test_size=0.1, random_state=1)\n",
    "\n",
    "    def objective(trial):\n",
    "        successful_trials_so_far = len([t for t in study.trials if t.state.name == 'COMPLETE'])\n",
    "        if successful_trials_so_far >= n_trials:\n",
    "            study.stop()\n",
    "            print('Maximum number of trials reached, prunning')\n",
    "            raise optuna.TrialPruned()\n",
    "        print(f\"Running trial {trial.number}\")\n",
    "\n",
    "        if esttype == 'catb':\n",
    "            param = {\n",
    "                'iterations': 100_000,\n",
    "                'early_stopping_rounds': trial.suggest_int(\"early_stopping_rounds\", 50, 100),\n",
    "                'verbose': 1000,\n",
    "                'random_seed': successful_trials_so_far,\n",
    "                #'task_type': 'GPU',\n",
    "            }\n",
    "\n",
    "            creg = CatBoostRegressor(**param)\n",
    "            creg.fit(x_trial_train, y_trial_train,\n",
    "                eval_set=(x_trial_val, y_trial_val)\n",
    "            )\n",
    "\n",
    "        elif esttype == 'lasso':\n",
    "            alpha = trial.suggest_float(\"alpha\", 0, 10)\n",
    "\n",
    "            creg = sklearn.linear_model.Lasso(alpha=alpha)\n",
    "            creg.fit(x_trial_train, y_trial_train)\n",
    "\n",
    "        else:\n",
    "            raise ValueError('Invalid estimator type')\n",
    "        \n",
    "        y_trial_pred = creg.predict(x_trial_test)\n",
    "        diff = y_trial_pred - y_trial_test\n",
    "        err = np.abs(diff).mean()\n",
    "\n",
    "        trial.set_user_attr(\"err\", err)\n",
    "        print('error on hyp search validation:', err)\n",
    "\n",
    "        best_estimator_performance = np.inf\n",
    "        try:\n",
    "            best_estimator_performance = study.best_trial.values[0]\n",
    "        except Exception:\n",
    "            pass\n",
    "\n",
    "        if best_estimator_performance >= err:\n",
    "            print('Best estimator so far. Saving estimator, started.')\n",
    "            with open(f\"{os.path.join(optuna_storage_dir, str(trial.number))}.pkl\", \"wb\") as f:\n",
    "                pickle.dump(creg, f)\n",
    "            print('Saving estimator, done.')\n",
    "        else:\n",
    "            print('Not the best estimator so far.')\n",
    "\n",
    "        print(f\"Finished trial {trial.number}\")\n",
    "        return err\n",
    "\n",
    "    optuna_storage_dir = os.path.join(optuna_storage_dir, esttype)\n",
    "    os.makedirs(optuna_storage_dir, exist_ok=True)\n",
    "\n",
    "    optuna_storage = optuna.storages.RDBStorage(url=\"sqlite:///\"+optuna_sql_path, engine_kwargs={\"connect_args\": {\"timeout\": 600}})\n",
    "    try:\n",
    "        optuna.delete_study(storage=optuna_storage, study_name=esttype)\n",
    "    except KeyError:\n",
    "        pass\n",
    "    study = optuna.create_study(storage=optuna_storage,\n",
    "                                study_name=esttype, direction=\"minimize\",\n",
    "                                sampler=optuna.samplers.TPESampler(seed=1))\n",
    "    study.optimize(objective, n_trials=n_trials)\n",
    "\n",
    "    print(\"Loading best trial:\", study.best_params, 'started')\n",
    "    with open(f\"{os.path.join(optuna_storage_dir, str(study.best_trial.number))}.pkl\", \"rb\") as f:\n",
    "        best_creg = pickle.load(f)\n",
    "    print(\"Loading best trial:\", study.best_params, 'done')\n",
    "\n",
    "    return best_creg#, study.best_params, study\n",
    "\n",
    "class BiasCorrectEstimatorCole:\n",
    "    def __init__(self, est, x_sval_bc, y_sval_bc):\n",
    "        self.est = est\n",
    "        \n",
    "        x_sval_bc = np.array(x_sval_bc)\n",
    "        y_sval_bc = np.array(y_sval_bc).reshape(-1)\n",
    "        \n",
    "        reg = sklearn.linear_model.LinearRegression()\n",
    "        reg.fit(y_sval_bc.reshape((-1, 1)), est.predict(x_sval_bc).reshape(-1))\n",
    "        self.intercept = reg.intercept_\n",
    "        self.coef = reg.coef_.item()\n",
    " \n",
    "    def predict(self, x_pred, y_pred=None):\n",
    "        x_pred = np.array(x_pred)\n",
    "        pred = self.est.predict(x_pred)\n",
    "        pred = (pred - self.intercept) / self.coef\n",
    "        return pred"
   ]
  },
  {
   "cell_type": "code",
   "execution_count": 4,
   "metadata": {
    "colab": {
     "base_uri": "https://localhost:8080/"
    },
    "id": "Kr9PmmosPjXN",
    "outputId": "e8f691cd-8e33-4fef-86b9-5eb02e182175"
   },
   "outputs": [
    {
     "data": {
      "text/plain": [
       "0"
      ]
     },
     "execution_count": 4,
     "metadata": {},
     "output_type": "execute_result"
    }
   ],
   "source": [
    "df = pd.read_csv('data/synthetic_db_healthy.csv')\n",
    "df.isna().any(1).sum()"
   ]
  },
  {
   "cell_type": "code",
   "execution_count": 5,
   "metadata": {
    "id": "QUwv1VA4JCgm"
   },
   "outputs": [],
   "source": [
    "x_all, y_all = df.iloc[:, df.columns!='age_at_MRI'], df['age_at_MRI'], \n",
    "x_train, x_test, y_train, y_test = train_test_split(x_all, y_all, test_size=0.2, random_state=0)"
   ]
  },
  {
   "cell_type": "code",
   "execution_count": 6,
   "metadata": {
    "colab": {
     "base_uri": "https://localhost:8080/"
    },
    "id": "icD6yFbf7_XQ",
    "outputId": "15ae9920-6050-49e6-b74e-17c553c1ec55"
   },
   "outputs": [
    {
     "name": "stderr",
     "output_type": "stream",
     "text": [
      "\u001b[32m[I 2022-08-13 14:01:43,472]\u001b[0m A new study created in RDB with name: catb\u001b[0m\n"
     ]
    },
    {
     "name": "stdout",
     "output_type": "stream",
     "text": [
      "Running trial 0\n",
      "Learning rate set to 0.003698\n",
      "0:\tlearn: 7.2927696\ttest: 6.7203045\tbest: 6.7203045 (0)\ttotal: 73.7ms\tremaining: 2h 2m 52s\n",
      "1000:\tlearn: 5.3641452\ttest: 5.4879250\tbest: 5.4879250 (1000)\ttotal: 10s\tremaining: 16m 28s\n",
      "2000:\tlearn: 4.8505237\ttest: 5.3400868\tbest: 5.3400868 (2000)\ttotal: 19.9s\tremaining: 16m 12s\n",
      "3000:\tlearn: 4.4107673\ttest: 5.2818156\tbest: 5.2815372 (2996)\ttotal: 29.7s\tremaining: 15m 58s\n"
     ]
    },
    {
     "name": "stderr",
     "output_type": "stream",
     "text": [
      "\u001b[32m[I 2022-08-13 14:02:21,100]\u001b[0m Trial 0 finished with value: 4.56010275406753 and parameters: {'early_stopping_rounds': 71}. Best is trial 0 with value: 4.56010275406753.\u001b[0m\n"
     ]
    },
    {
     "name": "stdout",
     "output_type": "stream",
     "text": [
      "Stopped by overfitting detector  (71 iterations wait)\n",
      "\n",
      "bestTest = 5.257545066\n",
      "bestIteration = 3671\n",
      "\n",
      "Shrink model to first 3672 iterations.\n",
      "error on hyp search validation: 4.56010275406753\n",
      "Best estimator so far. Saving estimator, started.\n",
      "Saving estimator, done.\n",
      "Finished trial 0\n",
      "Running trial 1\n",
      "Learning rate set to 0.003698\n",
      "0:\tlearn: 7.2932588\ttest: 6.7211142\tbest: 6.7211142 (0)\ttotal: 10.6ms\tremaining: 17m 36s\n",
      "1000:\tlearn: 5.3651469\ttest: 5.4913579\tbest: 5.4913579 (1000)\ttotal: 10.1s\tremaining: 16m 40s\n",
      "2000:\tlearn: 4.8561194\ttest: 5.3463634\tbest: 5.3463634 (2000)\ttotal: 20.3s\tremaining: 16m 32s\n",
      "3000:\tlearn: 4.4123265\ttest: 5.2897985\tbest: 5.2897985 (3000)\ttotal: 30.3s\tremaining: 16m 19s\n"
     ]
    },
    {
     "name": "stderr",
     "output_type": "stream",
     "text": [
      "\u001b[32m[I 2022-08-13 14:02:53,648]\u001b[0m Trial 1 finished with value: 4.5817887455261195 and parameters: {'early_stopping_rounds': 86}. Best is trial 0 with value: 4.56010275406753.\u001b[0m\n"
     ]
    },
    {
     "name": "stdout",
     "output_type": "stream",
     "text": [
      "Stopped by overfitting detector  (86 iterations wait)\n",
      "\n",
      "bestTest = 5.285393081\n",
      "bestIteration = 3081\n",
      "\n",
      "Shrink model to first 3082 iterations.\n",
      "error on hyp search validation: 4.5817887455261195\n",
      "Not the best estimator so far.\n",
      "Finished trial 1\n",
      "Running trial 2\n",
      "Learning rate set to 0.003698\n",
      "0:\tlearn: 7.2930809\ttest: 6.7204777\tbest: 6.7204777 (0)\ttotal: 9.99ms\tremaining: 16m 38s\n",
      "1000:\tlearn: 5.3601430\ttest: 5.4885409\tbest: 5.4885409 (1000)\ttotal: 10.9s\tremaining: 17m 56s\n",
      "2000:\tlearn: 4.8531767\ttest: 5.3416976\tbest: 5.3416976 (2000)\ttotal: 21.1s\tremaining: 17m 13s\n",
      "3000:\tlearn: 4.4076704\ttest: 5.2876921\tbest: 5.2875377 (2999)\ttotal: 31.5s\tremaining: 16m 59s\n"
     ]
    },
    {
     "name": "stderr",
     "output_type": "stream",
     "text": [
      "\u001b[32m[I 2022-08-13 14:03:29,766]\u001b[0m Trial 2 finished with value: 4.549314282818119 and parameters: {'early_stopping_rounds': 50}. Best is trial 2 with value: 4.549314282818119.\u001b[0m\n"
     ]
    },
    {
     "name": "stdout",
     "output_type": "stream",
     "text": [
      "Stopped by overfitting detector  (50 iterations wait)\n",
      "\n",
      "bestTest = 5.274474714\n",
      "bestIteration = 3353\n",
      "\n",
      "Shrink model to first 3354 iterations.\n",
      "error on hyp search validation: 4.549314282818119\n",
      "Best estimator so far. Saving estimator, started.\n",
      "Saving estimator, done.\n",
      "Finished trial 2\n",
      "Running trial 3\n",
      "Learning rate set to 0.003698\n",
      "0:\tlearn: 7.2927446\ttest: 6.7205410\tbest: 6.7205410 (0)\ttotal: 10.4ms\tremaining: 17m 16s\n",
      "1000:\tlearn: 5.3643608\ttest: 5.4874499\tbest: 5.4874499 (1000)\ttotal: 10.5s\tremaining: 17m 17s\n",
      "2000:\tlearn: 4.8543980\ttest: 5.3421377\tbest: 5.3421377 (2000)\ttotal: 20.9s\tremaining: 17m 5s\n",
      "3000:\tlearn: 4.4100894\ttest: 5.2833266\tbest: 5.2831455 (2997)\ttotal: 31.9s\tremaining: 17m 11s\n",
      "4000:\tlearn: 3.9865812\ttest: 5.2565712\tbest: 5.2565364 (3997)\ttotal: 42.8s\tremaining: 17m 5s\n"
     ]
    },
    {
     "name": "stderr",
     "output_type": "stream",
     "text": [
      "\u001b[32m[I 2022-08-13 14:04:15,140]\u001b[0m Trial 3 finished with value: 4.550983246226302 and parameters: {'early_stopping_rounds': 65}. Best is trial 2 with value: 4.549314282818119.\u001b[0m\n"
     ]
    },
    {
     "name": "stdout",
     "output_type": "stream",
     "text": [
      "Stopped by overfitting detector  (65 iterations wait)\n",
      "\n",
      "bestTest = 5.252403158\n",
      "bestIteration = 4135\n",
      "\n",
      "Shrink model to first 4136 iterations.\n",
      "error on hyp search validation: 4.550983246226302\n",
      "Not the best estimator so far.\n",
      "Finished trial 3\n",
      "Running trial 4\n",
      "Learning rate set to 0.003698\n",
      "0:\tlearn: 7.2928292\ttest: 6.7202306\tbest: 6.7202306 (0)\ttotal: 10.3ms\tremaining: 17m 11s\n",
      "1000:\tlearn: 5.3654251\ttest: 5.4846227\tbest: 5.4846227 (1000)\ttotal: 10.5s\tremaining: 17m 22s\n",
      "2000:\tlearn: 4.8532868\ttest: 5.3393044\tbest: 5.3393044 (2000)\ttotal: 21.6s\tremaining: 17m 36s\n",
      "3000:\tlearn: 4.4087904\ttest: 5.2851643\tbest: 5.2842928 (2947)\ttotal: 32.3s\tremaining: 17m 24s\n",
      "Stopped by overfitting detector  (57 iterations wait)\n",
      "\n",
      "bestTest = 5.284292839\n",
      "bestIteration = 2947\n",
      "\n",
      "Shrink model to first 2948 iterations.\n",
      "error on hyp search validation: 4.582943099389445\n"
     ]
    },
    {
     "name": "stderr",
     "output_type": "stream",
     "text": [
      "\u001b[32m[I 2022-08-13 14:04:48,011]\u001b[0m Trial 4 finished with value: 4.582943099389445 and parameters: {'early_stopping_rounds': 57}. Best is trial 2 with value: 4.549314282818119.\u001b[0m\n"
     ]
    },
    {
     "name": "stdout",
     "output_type": "stream",
     "text": [
      "Not the best estimator so far.\n",
      "Finished trial 4\n",
      "Running trial 5\n",
      "Learning rate set to 0.003698\n",
      "0:\tlearn: 7.2924275\ttest: 6.7201954\tbest: 6.7201954 (0)\ttotal: 23.9ms\tremaining: 39m 45s\n",
      "1000:\tlearn: 5.3673657\ttest: 5.4917904\tbest: 5.4917904 (1000)\ttotal: 10.7s\tremaining: 17m 38s\n",
      "2000:\tlearn: 4.8543454\ttest: 5.3427856\tbest: 5.3425933 (1997)\ttotal: 21.6s\tremaining: 17m 35s\n",
      "3000:\tlearn: 4.4144923\ttest: 5.2874553\tbest: 5.2874553 (3000)\ttotal: 32.2s\tremaining: 17m 20s\n"
     ]
    },
    {
     "name": "stderr",
     "output_type": "stream",
     "text": [
      "\u001b[32m[I 2022-08-13 14:05:26,316]\u001b[0m Trial 5 finished with value: 4.5720452842001045 and parameters: {'early_stopping_rounds': 54}. Best is trial 2 with value: 4.549314282818119.\u001b[0m\n"
     ]
    },
    {
     "name": "stdout",
     "output_type": "stream",
     "text": [
      "Stopped by overfitting detector  (54 iterations wait)\n",
      "\n",
      "bestTest = 5.27353507\n",
      "bestIteration = 3456\n",
      "\n",
      "Shrink model to first 3457 iterations.\n",
      "error on hyp search validation: 4.5720452842001045\n",
      "Not the best estimator so far.\n",
      "Finished trial 5\n",
      "Running trial 6\n",
      "Learning rate set to 0.003698\n",
      "0:\tlearn: 7.2933139\ttest: 6.7208962\tbest: 6.7208962 (0)\ttotal: 11.2ms\tremaining: 18m 42s\n",
      "1000:\tlearn: 5.3673404\ttest: 5.4950134\tbest: 5.4950134 (1000)\ttotal: 10.7s\tremaining: 17m 39s\n",
      "2000:\tlearn: 4.8604755\ttest: 5.3452860\tbest: 5.3450211 (1987)\ttotal: 22.1s\tremaining: 18m 1s\n",
      "3000:\tlearn: 4.4178753\ttest: 5.2838536\tbest: 5.2838536 (3000)\ttotal: 32.8s\tremaining: 17m 40s\n"
     ]
    },
    {
     "name": "stderr",
     "output_type": "stream",
     "text": [
      "\u001b[32m[I 2022-08-13 14:06:07,648]\u001b[0m Trial 6 finished with value: 4.567986278531375 and parameters: {'early_stopping_rounds': 59}. Best is trial 2 with value: 4.549314282818119.\u001b[0m\n"
     ]
    },
    {
     "name": "stdout",
     "output_type": "stream",
     "text": [
      "Stopped by overfitting detector  (59 iterations wait)\n",
      "\n",
      "bestTest = 5.263728816\n",
      "bestIteration = 3678\n",
      "\n",
      "Shrink model to first 3679 iterations.\n",
      "error on hyp search validation: 4.567986278531375\n",
      "Not the best estimator so far.\n",
      "Finished trial 6\n",
      "Running trial 7\n",
      "Learning rate set to 0.003698\n",
      "0:\tlearn: 7.2930370\ttest: 6.7195342\tbest: 6.7195342 (0)\ttotal: 11.5ms\tremaining: 19m 9s\n",
      "1000:\tlearn: 5.3616943\ttest: 5.4872965\tbest: 5.4872965 (1000)\ttotal: 10.8s\tremaining: 17m 43s\n",
      "2000:\tlearn: 4.8526374\ttest: 5.3441206\tbest: 5.3441087 (1999)\ttotal: 21.7s\tremaining: 17m 40s\n",
      "3000:\tlearn: 4.4123525\ttest: 5.2840425\tbest: 5.2836441 (2985)\ttotal: 33s\tremaining: 17m 45s\n"
     ]
    },
    {
     "name": "stderr",
     "output_type": "stream",
     "text": [
      "\u001b[32m[I 2022-08-13 14:06:45,278]\u001b[0m Trial 7 finished with value: 4.56567944919343 and parameters: {'early_stopping_rounds': 67}. Best is trial 2 with value: 4.549314282818119.\u001b[0m\n"
     ]
    },
    {
     "name": "stdout",
     "output_type": "stream",
     "text": [
      "Stopped by overfitting detector  (67 iterations wait)\n",
      "\n",
      "bestTest = 5.271962439\n",
      "bestIteration = 3325\n",
      "\n",
      "Shrink model to first 3326 iterations.\n",
      "error on hyp search validation: 4.56567944919343\n",
      "Not the best estimator so far.\n",
      "Finished trial 7\n",
      "Running trial 8\n",
      "Learning rate set to 0.003698\n",
      "0:\tlearn: 7.2931854\ttest: 6.7205060\tbest: 6.7205060 (0)\ttotal: 10ms\tremaining: 16m 42s\n",
      "1000:\tlearn: 5.3670705\ttest: 5.4849102\tbest: 5.4849102 (1000)\ttotal: 10.9s\tremaining: 17m 54s\n",
      "2000:\tlearn: 4.8548573\ttest: 5.3339259\tbest: 5.3339259 (2000)\ttotal: 22s\tremaining: 17m 55s\n",
      "3000:\tlearn: 4.4145853\ttest: 5.2714471\tbest: 5.2714471 (3000)\ttotal: 32.8s\tremaining: 17m 41s\n"
     ]
    },
    {
     "name": "stderr",
     "output_type": "stream",
     "text": [
      "\u001b[32m[I 2022-08-13 14:07:22,828]\u001b[0m Trial 8 finished with value: 4.567616204096844 and parameters: {'early_stopping_rounds': 70}. Best is trial 2 with value: 4.549314282818119.\u001b[0m\n"
     ]
    },
    {
     "name": "stdout",
     "output_type": "stream",
     "text": [
      "Stopped by overfitting detector  (70 iterations wait)\n",
      "\n",
      "bestTest = 5.259961753\n",
      "bestIteration = 3291\n",
      "\n",
      "Shrink model to first 3292 iterations.\n",
      "error on hyp search validation: 4.567616204096844\n",
      "Not the best estimator so far.\n",
      "Finished trial 8\n",
      "Running trial 9\n",
      "Learning rate set to 0.003698\n",
      "0:\tlearn: 7.2937393\ttest: 6.7208452\tbest: 6.7208452 (0)\ttotal: 10.3ms\tremaining: 17m 7s\n",
      "1000:\tlearn: 5.3691654\ttest: 5.5059919\tbest: 5.5059919 (1000)\ttotal: 10.9s\tremaining: 17m 55s\n",
      "2000:\tlearn: 4.8595825\ttest: 5.3615206\tbest: 5.3615206 (2000)\ttotal: 22.1s\tremaining: 18m 3s\n",
      "3000:\tlearn: 4.4135992\ttest: 5.3082829\tbest: 5.3082531 (2997)\ttotal: 33.1s\tremaining: 17m 49s\n",
      "4000:\tlearn: 3.9898630\ttest: 5.2847838\tbest: 5.2844691 (3995)\ttotal: 44.4s\tremaining: 17m 45s\n"
     ]
    },
    {
     "name": "stderr",
     "output_type": "stream",
     "text": [
      "\u001b[32m[I 2022-08-13 14:08:12,262]\u001b[0m Trial 9 finished with value: 4.5547830971819 and parameters: {'early_stopping_rounds': 77}. Best is trial 2 with value: 4.549314282818119.\u001b[0m\n"
     ]
    },
    {
     "name": "stdout",
     "output_type": "stream",
     "text": [
      "Stopped by overfitting detector  (77 iterations wait)\n",
      "\n",
      "bestTest = 5.280909997\n",
      "bestIteration = 4334\n",
      "\n",
      "Shrink model to first 4335 iterations.\n",
      "error on hyp search validation: 4.5547830971819\n",
      "Not the best estimator so far.\n",
      "Finished trial 9\n",
      "Running trial 10\n",
      "Learning rate set to 0.003698\n",
      "0:\tlearn: 7.2917993\ttest: 6.7195543\tbest: 6.7195543 (0)\ttotal: 9.58ms\tremaining: 15m 57s\n",
      "1000:\tlearn: 5.3685815\ttest: 5.4984499\tbest: 5.4984499 (1000)\ttotal: 11.2s\tremaining: 18m 31s\n",
      "2000:\tlearn: 4.8577574\ttest: 5.3458816\tbest: 5.3458816 (2000)\ttotal: 22.2s\tremaining: 18m 7s\n",
      "3000:\tlearn: 4.4155904\ttest: 5.2927410\tbest: 5.2926873 (2989)\ttotal: 33.4s\tremaining: 17m 59s\n",
      "4000:\tlearn: 3.9928310\ttest: 5.2725528\tbest: 5.2725528 (4000)\ttotal: 44.8s\tremaining: 17m 53s\n"
     ]
    },
    {
     "name": "stderr",
     "output_type": "stream",
     "text": [
      "\u001b[32m[I 2022-08-13 14:09:06,762]\u001b[0m Trial 10 finished with value: 4.5552734337527 and parameters: {'early_stopping_rounds': 98}. Best is trial 2 with value: 4.549314282818119.\u001b[0m\n"
     ]
    },
    {
     "name": "stdout",
     "output_type": "stream",
     "text": [
      "Stopped by overfitting detector  (98 iterations wait)\n",
      "\n",
      "bestTest = 5.260569584\n",
      "bestIteration = 4740\n",
      "\n",
      "Shrink model to first 4741 iterations.\n",
      "error on hyp search validation: 4.5552734337527\n",
      "Not the best estimator so far.\n",
      "Finished trial 10\n",
      "Running trial 11\n",
      "Learning rate set to 0.003698\n",
      "0:\tlearn: 7.2929469\ttest: 6.7203637\tbest: 6.7203637 (0)\ttotal: 10.4ms\tremaining: 17m 23s\n",
      "1000:\tlearn: 5.3665995\ttest: 5.4915984\tbest: 5.4915984 (1000)\ttotal: 11.4s\tremaining: 18m 44s\n",
      "2000:\tlearn: 4.8561222\ttest: 5.3464181\tbest: 5.3464181 (2000)\ttotal: 22.4s\tremaining: 18m 14s\n"
     ]
    },
    {
     "name": "stderr",
     "output_type": "stream",
     "text": [
      "\u001b[32m[I 2022-08-13 14:09:40,503]\u001b[0m Trial 11 finished with value: 4.566784523341784 and parameters: {'early_stopping_rounds': 52}. Best is trial 2 with value: 4.549314282818119.\u001b[0m\n"
     ]
    },
    {
     "name": "stdout",
     "output_type": "stream",
     "text": [
      "Stopped by overfitting detector  (52 iterations wait)\n",
      "\n",
      "bestTest = 5.287561881\n",
      "bestIteration = 2924\n",
      "\n",
      "Shrink model to first 2925 iterations.\n",
      "error on hyp search validation: 4.566784523341784\n",
      "Not the best estimator so far.\n",
      "Finished trial 11\n",
      "Running trial 12\n",
      "Learning rate set to 0.003698\n",
      "0:\tlearn: 7.2936811\ttest: 6.7205847\tbest: 6.7205847 (0)\ttotal: 11.7ms\tremaining: 19m 25s\n",
      "1000:\tlearn: 5.3689816\ttest: 5.5011392\tbest: 5.5011392 (1000)\ttotal: 11s\tremaining: 18m 9s\n",
      "2000:\tlearn: 4.8551266\ttest: 5.3544199\tbest: 5.3544199 (2000)\ttotal: 22.4s\tremaining: 18m 16s\n"
     ]
    },
    {
     "name": "stderr",
     "output_type": "stream",
     "text": [
      "\u001b[32m[I 2022-08-13 14:10:10,726]\u001b[0m Trial 12 finished with value: 4.581772369063538 and parameters: {'early_stopping_rounds': 62}. Best is trial 2 with value: 4.549314282818119.\u001b[0m\n"
     ]
    },
    {
     "name": "stdout",
     "output_type": "stream",
     "text": [
      "Stopped by overfitting detector  (62 iterations wait)\n",
      "\n",
      "bestTest = 5.309994532\n",
      "bestIteration = 2623\n",
      "\n",
      "Shrink model to first 2624 iterations.\n",
      "error on hyp search validation: 4.581772369063538\n",
      "Not the best estimator so far.\n",
      "Finished trial 12\n",
      "Running trial 13\n",
      "Learning rate set to 0.003698\n",
      "0:\tlearn: 7.2923396\ttest: 6.7198165\tbest: 6.7198165 (0)\ttotal: 9.97ms\tremaining: 16m 37s\n",
      "1000:\tlearn: 5.3644056\ttest: 5.4921392\tbest: 5.4921392 (1000)\ttotal: 11.3s\tremaining: 18m 37s\n",
      "2000:\tlearn: 4.8590981\ttest: 5.3397598\tbest: 5.3394774 (1998)\ttotal: 22.5s\tremaining: 18m 22s\n",
      "3000:\tlearn: 4.4178737\ttest: 5.2825535\tbest: 5.2823014 (2998)\ttotal: 33.5s\tremaining: 18m 3s\n",
      "4000:\tlearn: 3.9940464\ttest: 5.2557638\tbest: 5.2557359 (3994)\ttotal: 44.7s\tremaining: 17m 53s\n",
      "5000:\tlearn: 3.6330959\ttest: 5.2398714\tbest: 5.2393866 (4988)\ttotal: 55.7s\tremaining: 17m 38s\n"
     ]
    },
    {
     "name": "stderr",
     "output_type": "stream",
     "text": [
      "\u001b[32m[I 2022-08-13 14:11:12,788]\u001b[0m Trial 13 finished with value: 4.54609931774709 and parameters: {'early_stopping_rounds': 79}. Best is trial 13 with value: 4.54609931774709.\u001b[0m\n"
     ]
    },
    {
     "name": "stdout",
     "output_type": "stream",
     "text": [
      "Stopped by overfitting detector  (79 iterations wait)\n",
      "\n",
      "bestTest = 5.234567319\n",
      "bestIteration = 5406\n",
      "\n",
      "Shrink model to first 5407 iterations.\n",
      "error on hyp search validation: 4.54609931774709\n",
      "Best estimator so far. Saving estimator, started.\n",
      "Saving estimator, done.\n",
      "Finished trial 13\n",
      "Running trial 14\n",
      "Learning rate set to 0.003698\n",
      "0:\tlearn: 7.2923465\ttest: 6.7201904\tbest: 6.7201904 (0)\ttotal: 22.3ms\tremaining: 37m 13s\n",
      "1000:\tlearn: 5.3627268\ttest: 5.4865608\tbest: 5.4864537 (998)\ttotal: 11.2s\tremaining: 18m 23s\n",
      "2000:\tlearn: 4.8553329\ttest: 5.3426199\tbest: 5.3426056 (1999)\ttotal: 22.9s\tremaining: 18m 42s\n",
      "3000:\tlearn: 4.4147472\ttest: 5.2838819\tbest: 5.2838819 (3000)\ttotal: 33.9s\tremaining: 18m 15s\n",
      "4000:\tlearn: 3.9922833\ttest: 5.2616383\tbest: 5.2608756 (3975)\ttotal: 45.3s\tremaining: 18m 5s\n"
     ]
    },
    {
     "name": "stderr",
     "output_type": "stream",
     "text": [
      "\u001b[32m[I 2022-08-13 14:11:59,192]\u001b[0m Trial 14 finished with value: 4.559309631247695 and parameters: {'early_stopping_rounds': 80}. Best is trial 13 with value: 4.54609931774709.\u001b[0m\n"
     ]
    },
    {
     "name": "stdout",
     "output_type": "stream",
     "text": [
      "Stopped by overfitting detector  (80 iterations wait)\n",
      "\n",
      "bestTest = 5.260875636\n",
      "bestIteration = 3975\n",
      "\n",
      "Shrink model to first 3976 iterations.\n",
      "error on hyp search validation: 4.559309631247695\n",
      "Not the best estimator so far.\n",
      "Finished trial 14\n",
      "Running trial 15\n",
      "Learning rate set to 0.003698\n",
      "0:\tlearn: 7.2924466\ttest: 6.7200154\tbest: 6.7200154 (0)\ttotal: 10.8ms\tremaining: 18m 4s\n",
      "1000:\tlearn: 5.3671256\ttest: 5.4833284\tbest: 5.4832933 (999)\ttotal: 11.8s\tremaining: 19m 27s\n",
      "2000:\tlearn: 4.8567263\ttest: 5.3367604\tbest: 5.3366523 (1996)\ttotal: 22.8s\tremaining: 18m 38s\n",
      "3000:\tlearn: 4.4118505\ttest: 5.2753584\tbest: 5.2752419 (2995)\ttotal: 34s\tremaining: 18m 19s\n"
     ]
    },
    {
     "name": "stderr",
     "output_type": "stream",
     "text": [
      "\u001b[32m[I 2022-08-13 14:12:35,928]\u001b[0m Trial 15 finished with value: 4.580988300808124 and parameters: {'early_stopping_rounds': 90}. Best is trial 13 with value: 4.54609931774709.\u001b[0m\n"
     ]
    },
    {
     "name": "stdout",
     "output_type": "stream",
     "text": [
      "Stopped by overfitting detector  (90 iterations wait)\n",
      "\n",
      "bestTest = 5.272511549\n",
      "bestIteration = 3107\n",
      "\n",
      "Shrink model to first 3108 iterations.\n",
      "error on hyp search validation: 4.580988300808124\n",
      "Not the best estimator so far.\n",
      "Finished trial 15\n",
      "Running trial 16\n",
      "Learning rate set to 0.003698\n",
      "0:\tlearn: 7.2930230\ttest: 6.7204395\tbest: 6.7204395 (0)\ttotal: 10.5ms\tremaining: 17m 32s\n",
      "1000:\tlearn: 5.3692078\ttest: 5.4877089\tbest: 5.4877089 (1000)\ttotal: 11.1s\tremaining: 18m 15s\n",
      "2000:\tlearn: 4.8592114\ttest: 5.3275859\tbest: 5.3275859 (2000)\ttotal: 22.7s\tremaining: 18m 33s\n",
      "3000:\tlearn: 4.4112747\ttest: 5.2753963\tbest: 5.2738298 (2936)\ttotal: 34s\tremaining: 18m 19s\n"
     ]
    },
    {
     "name": "stderr",
     "output_type": "stream",
     "text": [
      "\u001b[32m[I 2022-08-13 14:13:10,575]\u001b[0m Trial 16 finished with value: 4.569570213656224 and parameters: {'early_stopping_rounds': 83}. Best is trial 13 with value: 4.54609931774709.\u001b[0m\n"
     ]
    },
    {
     "name": "stdout",
     "output_type": "stream",
     "text": [
      "Stopped by overfitting detector  (83 iterations wait)\n",
      "\n",
      "bestTest = 5.273829797\n",
      "bestIteration = 2936\n",
      "\n",
      "Shrink model to first 2937 iterations.\n",
      "error on hyp search validation: 4.569570213656224\n",
      "Not the best estimator so far.\n",
      "Finished trial 16\n",
      "Running trial 17\n",
      "Learning rate set to 0.003698\n",
      "0:\tlearn: 7.2926023\ttest: 6.7204663\tbest: 6.7204663 (0)\ttotal: 12.3ms\tremaining: 20m 30s\n",
      "1000:\tlearn: 5.3622164\ttest: 5.4986476\tbest: 5.4986476 (1000)\ttotal: 11.2s\tremaining: 18m 26s\n",
      "2000:\tlearn: 4.8519767\ttest: 5.3538398\tbest: 5.3538398 (2000)\ttotal: 23s\tremaining: 18m 46s\n",
      "3000:\tlearn: 4.4093569\ttest: 5.2992958\tbest: 5.2992958 (3000)\ttotal: 34.1s\tremaining: 18m 20s\n",
      "4000:\tlearn: 3.9877999\ttest: 5.2741693\tbest: 5.2741693 (4000)\ttotal: 45.4s\tremaining: 18m 9s\n"
     ]
    },
    {
     "name": "stderr",
     "output_type": "stream",
     "text": [
      "\u001b[32m[I 2022-08-13 14:14:02,800]\u001b[0m Trial 17 finished with value: 4.550519096931488 and parameters: {'early_stopping_rounds': 95}. Best is trial 13 with value: 4.54609931774709.\u001b[0m\n"
     ]
    },
    {
     "name": "stdout",
     "output_type": "stream",
     "text": [
      "Stopped by overfitting detector  (95 iterations wait)\n",
      "\n",
      "bestTest = 5.263332724\n",
      "bestIteration = 4467\n",
      "\n",
      "Shrink model to first 4468 iterations.\n",
      "error on hyp search validation: 4.550519096931488\n",
      "Not the best estimator so far.\n",
      "Finished trial 17\n",
      "Running trial 18\n",
      "Learning rate set to 0.003698\n",
      "0:\tlearn: 7.2936018\ttest: 6.7205574\tbest: 6.7205574 (0)\ttotal: 11.4ms\tremaining: 19m\n",
      "1000:\tlearn: 5.3657450\ttest: 5.4976514\tbest: 5.4976492 (999)\ttotal: 11.8s\tremaining: 19m 30s\n",
      "2000:\tlearn: 4.8542295\ttest: 5.3463696\tbest: 5.3463696 (2000)\ttotal: 23.7s\tremaining: 19m 23s\n",
      "3000:\tlearn: 4.4101220\ttest: 5.2938548\tbest: 5.2938548 (3000)\ttotal: 34.9s\tremaining: 18m 47s\n"
     ]
    },
    {
     "name": "stderr",
     "output_type": "stream",
     "text": [
      "\u001b[32m[I 2022-08-13 14:14:43,782]\u001b[0m Trial 18 finished with value: 4.571986974726781 and parameters: {'early_stopping_rounds': 75}. Best is trial 13 with value: 4.54609931774709.\u001b[0m\n"
     ]
    },
    {
     "name": "stdout",
     "output_type": "stream",
     "text": [
      "Stopped by overfitting detector  (75 iterations wait)\n",
      "\n",
      "bestTest = 5.284875154\n",
      "bestIteration = 3429\n",
      "\n",
      "Shrink model to first 3430 iterations.\n",
      "error on hyp search validation: 4.571986974726781\n",
      "Not the best estimator so far.\n",
      "Finished trial 18\n",
      "Running trial 19\n",
      "Learning rate set to 0.003698\n",
      "0:\tlearn: 7.2927995\ttest: 6.7199639\tbest: 6.7199639 (0)\ttotal: 12.5ms\tremaining: 20m 50s\n",
      "1000:\tlearn: 5.3647435\ttest: 5.4910098\tbest: 5.4910098 (1000)\ttotal: 11.9s\tremaining: 19m 37s\n",
      "2000:\tlearn: 4.8526751\ttest: 5.3416213\tbest: 5.3416213 (2000)\ttotal: 23.7s\tremaining: 19m 19s\n",
      "3000:\tlearn: 4.4103665\ttest: 5.2827961\tbest: 5.2827961 (3000)\ttotal: 35.2s\tremaining: 18m 58s\n"
     ]
    },
    {
     "name": "stderr",
     "output_type": "stream",
     "text": [
      "\u001b[32m[I 2022-08-13 14:15:25,497]\u001b[0m Trial 19 finished with value: 4.576520775864733 and parameters: {'early_stopping_rounds': 89}. Best is trial 13 with value: 4.54609931774709.\u001b[0m\n"
     ]
    },
    {
     "name": "stdout",
     "output_type": "stream",
     "text": [
      "Stopped by overfitting detector  (89 iterations wait)\n",
      "\n",
      "bestTest = 5.271343806\n",
      "bestIteration = 3430\n",
      "\n",
      "Shrink model to first 3431 iterations.\n",
      "error on hyp search validation: 4.576520775864733\n",
      "Not the best estimator so far.\n",
      "Finished trial 19\n",
      "Running trial 20\n",
      "Learning rate set to 0.003698\n",
      "0:\tlearn: 7.2926696\ttest: 6.7199031\tbest: 6.7199031 (0)\ttotal: 11.8ms\tremaining: 19m 37s\n",
      "1000:\tlearn: 5.3661389\ttest: 5.4857097\tbest: 5.4857097 (1000)\ttotal: 11.6s\tremaining: 19m 6s\n",
      "2000:\tlearn: 4.8565295\ttest: 5.3376439\tbest: 5.3375840 (1997)\ttotal: 23.3s\tremaining: 19m\n",
      "3000:\tlearn: 4.4125967\ttest: 5.2750086\tbest: 5.2750086 (3000)\ttotal: 34.9s\tremaining: 18m 47s\n"
     ]
    },
    {
     "name": "stderr",
     "output_type": "stream",
     "text": [
      "\u001b[32m[I 2022-08-13 14:16:01,691]\u001b[0m Trial 20 finished with value: 4.582405947506712 and parameters: {'early_stopping_rounds': 50}. Best is trial 13 with value: 4.54609931774709.\u001b[0m\n"
     ]
    },
    {
     "name": "stdout",
     "output_type": "stream",
     "text": [
      "Stopped by overfitting detector  (50 iterations wait)\n",
      "\n",
      "bestTest = 5.274075618\n",
      "bestIteration = 3026\n",
      "\n",
      "Shrink model to first 3027 iterations.\n",
      "error on hyp search validation: 4.582405947506712\n",
      "Not the best estimator so far.\n",
      "Finished trial 20\n",
      "Running trial 21\n",
      "Learning rate set to 0.003698\n",
      "0:\tlearn: 7.2930072\ttest: 6.7205235\tbest: 6.7205235 (0)\ttotal: 12.2ms\tremaining: 20m 16s\n",
      "1000:\tlearn: 5.3648959\ttest: 5.4908937\tbest: 5.4908937 (1000)\ttotal: 11.6s\tremaining: 19m 8s\n",
      "2000:\tlearn: 4.8552669\ttest: 5.3395050\tbest: 5.3394800 (1998)\ttotal: 23.1s\tremaining: 18m 49s\n",
      "3000:\tlearn: 4.4101579\ttest: 5.2828006\tbest: 5.2823432 (2990)\ttotal: 34.6s\tremaining: 18m 38s\n"
     ]
    },
    {
     "name": "stderr",
     "output_type": "stream",
     "text": [
      "\u001b[32m[I 2022-08-13 14:16:40,237]\u001b[0m Trial 21 finished with value: 4.585442421874324 and parameters: {'early_stopping_rounds': 95}. Best is trial 13 with value: 4.54609931774709.\u001b[0m\n"
     ]
    },
    {
     "name": "stdout",
     "output_type": "stream",
     "text": [
      "Stopped by overfitting detector  (95 iterations wait)\n",
      "\n",
      "bestTest = 5.274028352\n",
      "bestIteration = 3209\n",
      "\n",
      "Shrink model to first 3210 iterations.\n",
      "error on hyp search validation: 4.585442421874324\n",
      "Not the best estimator so far.\n",
      "Finished trial 21\n",
      "Running trial 22\n",
      "Learning rate set to 0.003698\n",
      "0:\tlearn: 7.2925690\ttest: 6.7200759\tbest: 6.7200759 (0)\ttotal: 12.9ms\tremaining: 21m 30s\n",
      "1000:\tlearn: 5.3608915\ttest: 5.4891090\tbest: 5.4891090 (1000)\ttotal: 11.4s\tremaining: 18m 50s\n",
      "2000:\tlearn: 4.8482165\ttest: 5.3478494\tbest: 5.3477367 (1999)\ttotal: 22.9s\tremaining: 18m 41s\n",
      "3000:\tlearn: 4.4116826\ttest: 5.2910055\tbest: 5.2907488 (2998)\ttotal: 34.4s\tremaining: 18m 32s\n"
     ]
    },
    {
     "name": "stderr",
     "output_type": "stream",
     "text": [
      "\u001b[32m[I 2022-08-13 14:17:18,160]\u001b[0m Trial 22 finished with value: 4.568358194954313 and parameters: {'early_stopping_rounds': 100}. Best is trial 13 with value: 4.54609931774709.\u001b[0m\n"
     ]
    },
    {
     "name": "stdout",
     "output_type": "stream",
     "text": [
      "Stopped by overfitting detector  (100 iterations wait)\n",
      "\n",
      "bestTest = 5.284229371\n",
      "bestIteration = 3170\n",
      "\n",
      "Shrink model to first 3171 iterations.\n",
      "error on hyp search validation: 4.568358194954313\n",
      "Not the best estimator so far.\n",
      "Finished trial 22\n",
      "Running trial 23\n",
      "Learning rate set to 0.003698\n",
      "0:\tlearn: 7.2928398\ttest: 6.7207751\tbest: 6.7207751 (0)\ttotal: 22.1ms\tremaining: 36m 46s\n",
      "1000:\tlearn: 5.3627063\ttest: 5.5035879\tbest: 5.5035181 (999)\ttotal: 11.6s\tremaining: 19m 8s\n",
      "2000:\tlearn: 4.8558204\ttest: 5.3560176\tbest: 5.3560061 (1999)\ttotal: 23s\tremaining: 18m 46s\n",
      "3000:\tlearn: 4.4138506\ttest: 5.2950003\tbest: 5.2949492 (2998)\ttotal: 34.5s\tremaining: 18m 34s\n",
      "4000:\tlearn: 3.9865363\ttest: 5.2706492\tbest: 5.2706492 (4000)\ttotal: 46.1s\tremaining: 18m 26s\n",
      "5000:\tlearn: 3.6257404\ttest: 5.2525172\tbest: 5.2524652 (4998)\ttotal: 57.5s\tremaining: 18m 13s\n"
     ]
    },
    {
     "name": "stderr",
     "output_type": "stream",
     "text": [
      "\u001b[32m[I 2022-08-13 14:18:21,141]\u001b[0m Trial 23 finished with value: 4.549950182135785 and parameters: {'early_stopping_rounds': 92}. Best is trial 13 with value: 4.54609931774709.\u001b[0m\n"
     ]
    },
    {
     "name": "stdout",
     "output_type": "stream",
     "text": [
      "Stopped by overfitting detector  (92 iterations wait)\n",
      "\n",
      "bestTest = 5.246202004\n",
      "bestIteration = 5312\n",
      "\n",
      "Shrink model to first 5313 iterations.\n",
      "error on hyp search validation: 4.549950182135785\n",
      "Not the best estimator so far.\n",
      "Finished trial 23\n",
      "Running trial 24\n",
      "Learning rate set to 0.003698\n",
      "0:\tlearn: 7.2930247\ttest: 6.7205770\tbest: 6.7205770 (0)\ttotal: 12.4ms\tremaining: 20m 41s\n",
      "1000:\tlearn: 5.3656452\ttest: 5.4927581\tbest: 5.4927581 (1000)\ttotal: 11.5s\tremaining: 18m 53s\n",
      "2000:\tlearn: 4.8549453\ttest: 5.3387745\tbest: 5.3387745 (2000)\ttotal: 22.8s\tremaining: 18m 37s\n",
      "3000:\tlearn: 4.4085148\ttest: 5.2868568\tbest: 5.2868568 (3000)\ttotal: 34.1s\tremaining: 18m 21s\n",
      "4000:\tlearn: 3.9882934\ttest: 5.2651924\tbest: 5.2651924 (4000)\ttotal: 45.3s\tremaining: 18m 7s\n"
     ]
    },
    {
     "name": "stderr",
     "output_type": "stream",
     "text": [
      "\u001b[32m[I 2022-08-13 14:19:11,268]\u001b[0m Trial 24 finished with value: 4.5569104266087646 and parameters: {'early_stopping_rounds': 74}. Best is trial 13 with value: 4.54609931774709.\u001b[0m\n"
     ]
    },
    {
     "name": "stdout",
     "output_type": "stream",
     "text": [
      "Stopped by overfitting detector  (74 iterations wait)\n",
      "\n",
      "bestTest = 5.257482882\n",
      "bestIteration = 4293\n",
      "\n",
      "Shrink model to first 4294 iterations.\n",
      "error on hyp search validation: 4.5569104266087646\n",
      "Not the best estimator so far.\n",
      "Finished trial 24\n",
      "Running trial 25\n",
      "Learning rate set to 0.003698\n",
      "0:\tlearn: 7.2928886\ttest: 6.7205729\tbest: 6.7205729 (0)\ttotal: 11ms\tremaining: 18m 16s\n",
      "1000:\tlearn: 5.3652591\ttest: 5.4932896\tbest: 5.4932896 (1000)\ttotal: 11.6s\tremaining: 19m 10s\n",
      "2000:\tlearn: 4.8547847\ttest: 5.3449051\tbest: 5.3449051 (2000)\ttotal: 22.8s\tremaining: 18m 38s\n",
      "3000:\tlearn: 4.4123259\ttest: 5.2828225\tbest: 5.2828225 (3000)\ttotal: 34s\tremaining: 18m 18s\n"
     ]
    },
    {
     "name": "stderr",
     "output_type": "stream",
     "text": [
      "\u001b[32m[I 2022-08-13 14:19:52,338]\u001b[0m Trial 25 finished with value: 4.565488995935334 and parameters: {'early_stopping_rounds': 81}. Best is trial 13 with value: 4.54609931774709.\u001b[0m\n"
     ]
    },
    {
     "name": "stdout",
     "output_type": "stream",
     "text": [
      "Stopped by overfitting detector  (81 iterations wait)\n",
      "\n",
      "bestTest = 5.268088538\n",
      "bestIteration = 3514\n",
      "\n",
      "Shrink model to first 3515 iterations.\n",
      "error on hyp search validation: 4.565488995935334\n",
      "Not the best estimator so far.\n",
      "Finished trial 25\n",
      "Running trial 26\n",
      "Learning rate set to 0.003698\n",
      "0:\tlearn: 7.2928109\ttest: 6.7203454\tbest: 6.7203454 (0)\ttotal: 19.7ms\tremaining: 32m 45s\n",
      "1000:\tlearn: 5.3690329\ttest: 5.5017423\tbest: 5.5017423 (1000)\ttotal: 11.4s\tremaining: 18m 48s\n",
      "2000:\tlearn: 4.8537517\ttest: 5.3551780\tbest: 5.3551780 (2000)\ttotal: 22.4s\tremaining: 18m 15s\n",
      "3000:\tlearn: 4.4101832\ttest: 5.2955167\tbest: 5.2946253 (2993)\ttotal: 33.6s\tremaining: 18m 5s\n",
      "4000:\tlearn: 3.9879484\ttest: 5.2692012\tbest: 5.2690712 (3998)\ttotal: 44.6s\tremaining: 17m 49s\n"
     ]
    },
    {
     "name": "stderr",
     "output_type": "stream",
     "text": [
      "\u001b[32m[I 2022-08-13 14:20:43,382]\u001b[0m Trial 26 finished with value: 4.5436211714457775 and parameters: {'early_stopping_rounds': 92}. Best is trial 26 with value: 4.5436211714457775.\u001b[0m\n"
     ]
    },
    {
     "name": "stdout",
     "output_type": "stream",
     "text": [
      "Stopped by overfitting detector  (92 iterations wait)\n",
      "\n",
      "bestTest = 5.260228438\n",
      "bestIteration = 4419\n",
      "\n",
      "Shrink model to first 4420 iterations.\n",
      "error on hyp search validation: 4.5436211714457775\n",
      "Best estimator so far. Saving estimator, started.\n",
      "Saving estimator, done.\n",
      "Finished trial 26\n",
      "Running trial 27\n",
      "Learning rate set to 0.003698\n",
      "0:\tlearn: 7.2935180\ttest: 6.7209235\tbest: 6.7209235 (0)\ttotal: 12.5ms\tremaining: 20m 50s\n",
      "1000:\tlearn: 5.3628996\ttest: 5.5026692\tbest: 5.5026692 (1000)\ttotal: 11.1s\tremaining: 18m 21s\n",
      "2000:\tlearn: 4.8550850\ttest: 5.3552310\tbest: 5.3552310 (2000)\ttotal: 22.9s\tremaining: 18m 42s\n",
      "3000:\tlearn: 4.4097411\ttest: 5.2973468\tbest: 5.2972346 (2996)\ttotal: 34s\tremaining: 18m 17s\n",
      "4000:\tlearn: 3.9831789\ttest: 5.2666258\tbest: 5.2666258 (4000)\ttotal: 45.7s\tremaining: 18m 17s\n"
     ]
    },
    {
     "name": "stderr",
     "output_type": "stream",
     "text": [
      "\u001b[32m[I 2022-08-13 14:21:37,618]\u001b[0m Trial 27 finished with value: 4.55663114482655 and parameters: {'early_stopping_rounds': 87}. Best is trial 26 with value: 4.5436211714457775.\u001b[0m\n"
     ]
    },
    {
     "name": "stdout",
     "output_type": "stream",
     "text": [
      "Stopped by overfitting detector  (87 iterations wait)\n",
      "\n",
      "bestTest = 5.25537226\n",
      "bestIteration = 4631\n",
      "\n",
      "Shrink model to first 4632 iterations.\n",
      "error on hyp search validation: 4.55663114482655\n",
      "Not the best estimator so far.\n",
      "Finished trial 27\n",
      "Running trial 28\n",
      "Learning rate set to 0.003698\n",
      "0:\tlearn: 7.2921312\ttest: 6.7198612\tbest: 6.7198612 (0)\ttotal: 9.79ms\tremaining: 16m 18s\n",
      "1000:\tlearn: 5.3666315\ttest: 5.4984025\tbest: 5.4984025 (1000)\ttotal: 11.9s\tremaining: 19m 32s\n",
      "2000:\tlearn: 4.8579503\ttest: 5.3481235\tbest: 5.3481235 (2000)\ttotal: 23.8s\tremaining: 19m 27s\n",
      "3000:\tlearn: 4.4163049\ttest: 5.2898636\tbest: 5.2891463 (2981)\ttotal: 34.8s\tremaining: 18m 45s\n",
      "4000:\tlearn: 3.9941345\ttest: 5.2680504\tbest: 5.2678140 (3977)\ttotal: 46.5s\tremaining: 18m 35s\n"
     ]
    },
    {
     "name": "stderr",
     "output_type": "stream",
     "text": [
      "\u001b[32m[I 2022-08-13 14:22:30,416]\u001b[0m Trial 28 finished with value: 4.555813177882406 and parameters: {'early_stopping_rounds': 82}. Best is trial 26 with value: 4.5436211714457775.\u001b[0m\n"
     ]
    },
    {
     "name": "stdout",
     "output_type": "stream",
     "text": [
      "Stopped by overfitting detector  (82 iterations wait)\n",
      "\n",
      "bestTest = 5.26024738\n",
      "bestIteration = 4432\n",
      "\n",
      "Shrink model to first 4433 iterations.\n",
      "error on hyp search validation: 4.555813177882406\n",
      "Not the best estimator so far.\n",
      "Finished trial 28\n",
      "Running trial 29\n",
      "Learning rate set to 0.003698\n",
      "0:\tlearn: 7.2930631\ttest: 6.7207003\tbest: 6.7207003 (0)\ttotal: 9.98ms\tremaining: 16m 38s\n",
      "1000:\tlearn: 5.3654081\ttest: 5.5015575\tbest: 5.5015575 (1000)\ttotal: 12s\tremaining: 19m 42s\n",
      "2000:\tlearn: 4.8546452\ttest: 5.3430158\tbest: 5.3430049 (1999)\ttotal: 23.1s\tremaining: 18m 49s\n",
      "3000:\tlearn: 4.4119669\ttest: 5.2866115\tbest: 5.2866115 (3000)\ttotal: 35s\tremaining: 18m 50s\n"
     ]
    },
    {
     "name": "stderr",
     "output_type": "stream",
     "text": [
      "\u001b[32m[I 2022-08-13 14:23:12,248]\u001b[0m Trial 29 finished with value: 4.5592282047466925 and parameters: {'early_stopping_rounds': 72}. Best is trial 26 with value: 4.5436211714457775.\u001b[0m\n"
     ]
    },
    {
     "name": "stdout",
     "output_type": "stream",
     "text": [
      "Stopped by overfitting detector  (72 iterations wait)\n",
      "\n",
      "bestTest = 5.274953141\n",
      "bestIteration = 3494\n",
      "\n",
      "Shrink model to first 3495 iterations.\n",
      "error on hyp search validation: 4.5592282047466925\n",
      "Not the best estimator so far.\n",
      "Finished trial 29\n",
      "Loading best trial: {'early_stopping_rounds': 92} started\n",
      "Loading best trial: {'early_stopping_rounds': 92} done\n"
     ]
    }
   ],
   "source": [
    "best_creg  = train_with_hyp_search(x_train, y_train, esttype='catb', n_trials=30)"
   ]
  },
  {
   "cell_type": "code",
   "execution_count": 7,
   "metadata": {
    "id": "bl6Mn72o_GmR"
   },
   "outputs": [
    {
     "name": "stdout",
     "output_type": "stream",
     "text": [
      "MAE on test set 4.5195189067305455\n"
     ]
    }
   ],
   "source": [
    "y_pred = best_creg.predict(x_test)\n",
    "err = np.abs(y_pred - y_test).mean()\n",
    "print(\"MAE on test set\", err)"
   ]
  },
  {
   "cell_type": "code",
   "execution_count": 8,
   "metadata": {
    "id": "bk9HSKt_TCHI"
   },
   "outputs": [
    {
     "data": {
      "text/plain": [
       "0"
      ]
     },
     "execution_count": 8,
     "metadata": {},
     "output_type": "execute_result"
    }
   ],
   "source": [
    "df_rf = pd.read_csv('data/synthetic_db_with_risk_factors.csv')\n",
    "x_rf = df_rf[x_all.columns]\n",
    "y_rf = df_rf['age_at_MRI']\n",
    "df_rf.isna().any(1).sum()"
   ]
  },
  {
   "cell_type": "code",
   "execution_count": 9,
   "metadata": {
    "id": "qwB6wTvaR-v6"
   },
   "outputs": [],
   "source": [
    "best_creg_bc = BiasCorrectEstimatorCole(best_creg, x_rf, y_rf)\n",
    "y_rf_pred = best_creg_bc.predict(x_rf)\n",
    "\n",
    "df_rf['ca_delta'] = y_rf_pred - y_rf"
   ]
  },
  {
   "cell_type": "code",
   "execution_count": 10,
   "metadata": {
    "id": "dMbTCCaDVUoJ"
   },
   "outputs": [
    {
     "data": {
      "text/html": [
       "<table class=\"simpletable\">\n",
       "<caption>OLS Regression Results</caption>\n",
       "<tr>\n",
       "  <th>Dep. Variable:</th>        <td>ca_delta</td>     <th>  R-squared:         </th>  <td>   0.001</td>  \n",
       "</tr>\n",
       "<tr>\n",
       "  <th>Model:</th>                   <td>OLS</td>       <th>  Adj. R-squared:    </th>  <td>   0.001</td>  \n",
       "</tr>\n",
       "<tr>\n",
       "  <th>Method:</th>             <td>Least Squares</td>  <th>  F-statistic:       </th>  <td>   6.464</td>  \n",
       "</tr>\n",
       "<tr>\n",
       "  <th>Date:</th>             <td>Sat, 13 Aug 2022</td> <th>  Prob (F-statistic):</th>  <td>5.16e-06</td>  \n",
       "</tr>\n",
       "<tr>\n",
       "  <th>Time:</th>                 <td>14:23:13</td>     <th>  Log-Likelihood:    </th> <td>-1.2638e+05</td>\n",
       "</tr>\n",
       "<tr>\n",
       "  <th>No. Observations:</th>      <td> 34137</td>      <th>  AIC:               </th>  <td>2.528e+05</td> \n",
       "</tr>\n",
       "<tr>\n",
       "  <th>Df Residuals:</th>          <td> 34131</td>      <th>  BIC:               </th>  <td>2.528e+05</td> \n",
       "</tr>\n",
       "<tr>\n",
       "  <th>Df Model:</th>              <td>     5</td>      <th>                     </th>      <td> </td>     \n",
       "</tr>\n",
       "<tr>\n",
       "  <th>Covariance Type:</th>      <td>nonrobust</td>    <th>                     </th>      <td> </td>     \n",
       "</tr>\n",
       "</table>\n",
       "<table class=\"simpletable\">\n",
       "<tr>\n",
       "         <td></td>            <th>coef</th>     <th>std err</th>      <th>t</th>      <th>P>|t|</th>  <th>[0.025</th>    <th>0.975]</th>  \n",
       "</tr>\n",
       "<tr>\n",
       "  <th>Intercept</th>       <td>    0.1218</td> <td>    0.454</td> <td>    0.268</td> <td> 0.789</td> <td>   -0.768</td> <td>    1.012</td>\n",
       "</tr>\n",
       "<tr>\n",
       "  <th>rf_diabetes</th>     <td>    0.2275</td> <td>    0.254</td> <td>    0.896</td> <td> 0.370</td> <td>   -0.270</td> <td>    0.725</td>\n",
       "</tr>\n",
       "<tr>\n",
       "  <th>sex</th>             <td>   -0.5656</td> <td>    0.113</td> <td>   -5.021</td> <td> 0.000</td> <td>   -0.786</td> <td>   -0.345</td>\n",
       "</tr>\n",
       "<tr>\n",
       "  <th>rf_diabetes:sex</th> <td>   -0.0285</td> <td>    0.344</td> <td>   -0.083</td> <td> 0.934</td> <td>   -0.703</td> <td>    0.646</td>\n",
       "</tr>\n",
       "<tr>\n",
       "  <th>age_at_MRI</th>      <td>   -0.0427</td> <td>    0.028</td> <td>   -1.550</td> <td> 0.121</td> <td>   -0.097</td> <td>    0.011</td>\n",
       "</tr>\n",
       "<tr>\n",
       "  <th>age_at_MRI ^ 2</th>  <td>    0.0448</td> <td>    0.027</td> <td>    1.687</td> <td> 0.092</td> <td>   -0.007</td> <td>    0.097</td>\n",
       "</tr>\n",
       "</table>\n",
       "<table class=\"simpletable\">\n",
       "<tr>\n",
       "  <th>Omnibus:</th>       <td>91.586</td> <th>  Durbin-Watson:     </th> <td>   1.980</td>\n",
       "</tr>\n",
       "<tr>\n",
       "  <th>Prob(Omnibus):</th> <td> 0.000</td> <th>  Jarque-Bera (JB):  </th> <td>  77.127</td>\n",
       "</tr>\n",
       "<tr>\n",
       "  <th>Skew:</th>          <td> 0.055</td> <th>  Prob(JB):          </th> <td>1.79e-17</td>\n",
       "</tr>\n",
       "<tr>\n",
       "  <th>Kurtosis:</th>      <td> 2.795</td> <th>  Cond. No.          </th> <td>    782.</td>\n",
       "</tr>\n",
       "</table><br/><br/>Notes:<br/>[1] Standard Errors assume that the covariance matrix of the errors is correctly specified."
      ],
      "text/plain": [
       "<class 'statsmodels.iolib.summary.Summary'>\n",
       "\"\"\"\n",
       "                            OLS Regression Results                            \n",
       "==============================================================================\n",
       "Dep. Variable:               ca_delta   R-squared:                       0.001\n",
       "Model:                            OLS   Adj. R-squared:                  0.001\n",
       "Method:                 Least Squares   F-statistic:                     6.464\n",
       "Date:                Sat, 13 Aug 2022   Prob (F-statistic):           5.16e-06\n",
       "Time:                        14:23:13   Log-Likelihood:            -1.2638e+05\n",
       "No. Observations:               34137   AIC:                         2.528e+05\n",
       "Df Residuals:                   34131   BIC:                         2.528e+05\n",
       "Df Model:                           5                                         \n",
       "Covariance Type:            nonrobust                                         \n",
       "===================================================================================\n",
       "                      coef    std err          t      P>|t|      [0.025      0.975]\n",
       "-----------------------------------------------------------------------------------\n",
       "Intercept           0.1218      0.454      0.268      0.789      -0.768       1.012\n",
       "rf_diabetes         0.2275      0.254      0.896      0.370      -0.270       0.725\n",
       "sex                -0.5656      0.113     -5.021      0.000      -0.786      -0.345\n",
       "rf_diabetes:sex    -0.0285      0.344     -0.083      0.934      -0.703       0.646\n",
       "age_at_MRI         -0.0427      0.028     -1.550      0.121      -0.097       0.011\n",
       "age_at_MRI ^ 2      0.0448      0.027      1.687      0.092      -0.007       0.097\n",
       "==============================================================================\n",
       "Omnibus:                       91.586   Durbin-Watson:                   1.980\n",
       "Prob(Omnibus):                  0.000   Jarque-Bera (JB):               77.127\n",
       "Skew:                           0.055   Prob(JB):                     1.79e-17\n",
       "Kurtosis:                       2.795   Cond. No.                         782.\n",
       "==============================================================================\n",
       "\n",
       "Notes:\n",
       "[1] Standard Errors assume that the covariance matrix of the errors is correctly specified.\n",
       "\"\"\""
      ]
     },
     "execution_count": 10,
     "metadata": {},
     "output_type": "execute_result"
    }
   ],
   "source": [
    "reg = smf.ols(formula='ca_delta ~ rf_diabetes*sex + age_at_MRI + age_at_MRI^2', data=df_rf).fit()\n",
    "\n",
    "reg.summary()"
   ]
  }
 ],
 "metadata": {
  "colab": {
   "collapsed_sections": [],
   "name": "cardiac ageing.ipynb",
   "provenance": []
  },
  "kernelspec": {
   "display_name": "Python 3 (ipykernel)",
   "language": "python",
   "name": "python3"
  },
  "language_info": {
   "codemirror_mode": {
    "name": "ipython",
    "version": 3
   },
   "file_extension": ".py",
   "mimetype": "text/x-python",
   "name": "python",
   "nbconvert_exporter": "python",
   "pygments_lexer": "ipython3",
   "version": "3.9.2"
  }
 },
 "nbformat": 4,
 "nbformat_minor": 1
}
