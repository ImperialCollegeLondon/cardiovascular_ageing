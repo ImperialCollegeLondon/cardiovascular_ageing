{
  "nbformat": 4,
  "nbformat_minor": 0,
  "metadata": {
    "colab": {
      "name": "cardiac ageing.ipynb",
      "provenance": [],
      "collapsed_sections": []
    },
    "kernelspec": {
      "name": "python3",
      "display_name": "Python 3"
    },
    "language_info": {
      "name": "python"
    }
  },
  "cells": [
    {
      "cell_type": "code",
      "source": [
        "!pip install -q optuna catboost"
      ],
      "metadata": {
        "id": "lCF76KJpP7kI"
      },
      "execution_count": 59,
      "outputs": []
    },
    {
      "cell_type": "code",
      "source": [
        "import numpy as np\n",
        "import scipy.stats as stats\n",
        "import pandas as pd\n",
        "import os\n",
        "import pickle\n",
        "\n",
        "import optuna\n",
        "import sklearn\n",
        "from sklearn.model_selection import train_test_split\n",
        "from catboost import CatBoostRegressor\n",
        "import statsmodels.formula.api as smf"
      ],
      "metadata": {
        "id": "y4hQ_g7NPnr6"
      },
      "execution_count": 60,
      "outputs": []
    },
    {
      "cell_type": "code",
      "execution_count": 61,
      "metadata": {
        "id": "3lbkK7I7Hj-i"
      },
      "outputs": [],
      "source": [
        "def mtest(self, x_test, y_test):\n",
        "    if len(y_test.shape) == 1:\n",
        "        y_test = y_test[:, None]\n",
        "    y_pred = self.predict(x_test)\n",
        "    diff = y_pred - y_test\n",
        "    se = diff**2\n",
        "    ss_res = se.sum()\n",
        "    ss_total = ((y_test - self.y_train_mean)**2).sum()\n",
        "    rsq = 1 - ss_res / ss_total\n",
        "    rmse = np.sqrt(se.mean())\n",
        "    mae = np.abs(diff).mean()\n",
        "    return dict(mae=mae, rmse=rmse, rsq=rsq)\n",
        "\n",
        "def train_with_hyp_search(x_trial, y_trial, esttype='catb', n_trials=30,\n",
        "                          optuna_sql_path='/dev/shm/optuna.sqlite3',\n",
        "                          optuna_storage_dir='/tmp/optuna_pkls'):\n",
        "\n",
        "    x_trial_train, x_trial_test, y_trial_train, y_trial_test = train_test_split(x_trial, y_trial, test_size=0.1, random_state=0)\n",
        "    if esttype != 'lasso':\n",
        "        x_trial_train, x_trial_val, y_trial_train, y_trial_val = train_test_split(x_trial_train, y_trial_train, test_size=0.1, random_state=1)\n",
        "\n",
        "    def objective(trial):\n",
        "        successful_trials_so_far = len([t for t in study.trials if t.state.name == 'COMPLETE'])\n",
        "        if successful_trials_so_far >= n_trials:\n",
        "            study.stop()\n",
        "            print('Maximum number of trials reached, prunning')\n",
        "            raise optuna.TrialPruned()\n",
        "        print(f\"Running trial {trial.number}\")\n",
        "\n",
        "        if esttype == 'catb':\n",
        "            param = {\n",
        "                'iterations': 100_000,\n",
        "                'early_stopping_rounds': trial.suggest_int(\"early_stopping_rounds\", 50, 100),\n",
        "                'verbose': 1000,\n",
        "                'random_seed': successful_trials_so_far,\n",
        "                #'task_type': 'GPU',\n",
        "            }\n",
        "\n",
        "            creg = CatBoostRegressor(**param)\n",
        "            creg.fit(x_trial_train, y_trial_train,\n",
        "                eval_set=(x_trial_val, y_trial_val)\n",
        "            )\n",
        "\n",
        "        elif esttype == 'lasso':\n",
        "            alpha = trial.suggest_float(\"alpha\", 0, 10)\n",
        "\n",
        "            creg = sklearn.linear_model.Lasso(alpha=alpha)\n",
        "            creg.fit(x_trial_train, y_trial_train)\n",
        "\n",
        "        else:\n",
        "            raise ValueError('Invalid estimator type')\n",
        "        \n",
        "        y_trial_pred = creg.predict(x_trial_test)\n",
        "        diff = y_trial_pred - y_trial_test\n",
        "        err = np.abs(diff).mean()\n",
        "\n",
        "        trial.set_user_attr(\"err\", err)\n",
        "        print('error on hyp search validation:', err)\n",
        "\n",
        "        best_estimator_performance = np.inf\n",
        "        try:\n",
        "            best_estimator_performance = study.best_trial.values[0]\n",
        "        except Exception:\n",
        "            pass\n",
        "\n",
        "        if best_estimator_performance >= err:\n",
        "            print('Best estimator so far. Saving estimator, started.')\n",
        "            with open(f\"{os.path.join(optuna_storage_dir, str(trial.number))}.pkl\", \"wb\") as f:\n",
        "                pickle.dump(creg, f)\n",
        "            print('Saving estimator, done.')\n",
        "        else:\n",
        "            print('Not the best estimator so far.')\n",
        "\n",
        "        print(f\"Finished trial {trial.number}\")\n",
        "        return err\n",
        "\n",
        "    optuna_storage_dir = os.path.join(optuna_storage_dir, esttype)\n",
        "    os.makedirs(optuna_storage_dir, exist_ok=True)\n",
        "\n",
        "    optuna_storage = optuna.storages.RDBStorage(url=\"sqlite:///\"+optuna_sql_path, engine_kwargs={\"connect_args\": {\"timeout\": 600}})\n",
        "    try:\n",
        "        optuna.delete_study(storage=optuna_storage, study_name=esttype)\n",
        "    except KeyError:\n",
        "        pass\n",
        "    study = optuna.create_study(storage=optuna_storage,\n",
        "                                study_name=esttype, direction=\"minimize\",\n",
        "                                sampler=optuna.samplers.TPESampler(seed=1))\n",
        "    study.optimize(objective, n_trials=n_trials)\n",
        "\n",
        "    print(\"Loading best trial:\", study.best_params, 'started')\n",
        "    with open(f\"{os.path.join(optuna_storage_dir, str(study.best_trial.number))}.pkl\", \"rb\") as f:\n",
        "        best_creg = pickle.load(f)\n",
        "    print(\"Loading best trial:\", study.best_params, 'done')\n",
        "\n",
        "    return best_creg#, study.best_params, study\n",
        "\n",
        "class BiasCorrectEstimatorCole:\n",
        "    def __init__(self, est, x_sval_bc, y_sval_bc):\n",
        "        self.est = est\n",
        "        \n",
        "        x_sval_bc = np.array(x_sval_bc)\n",
        "        y_sval_bc = np.array(y_sval_bc).reshape(-1)\n",
        "        \n",
        "        reg = sklearn.linear_model.LinearRegression()\n",
        "        reg.fit(y_sval_bc.reshape((-1, 1)), est.predict(x_sval_bc).reshape(-1))\n",
        "        self.intercept = reg.intercept_\n",
        "        self.coef = reg.coef_.item()\n",
        " \n",
        "    def predict(self, x_pred, y_pred=None):\n",
        "        x_pred = np.array(x_pred)\n",
        "        pred = self.est.predict(x_pred)\n",
        "        pred = (pred - self.intercept) / self.coef\n",
        "        return pred"
      ]
    },
    {
      "cell_type": "code",
      "source": [
        "df = pd.read_csv('synthetic_db_healthy.csv')\n",
        "df.isna().any(1).sum()"
      ],
      "metadata": {
        "colab": {
          "base_uri": "https://localhost:8080/"
        },
        "id": "Kr9PmmosPjXN",
        "outputId": "e8f691cd-8e33-4fef-86b9-5eb02e182175"
      },
      "execution_count": 62,
      "outputs": [
        {
          "output_type": "execute_result",
          "data": {
            "text/plain": [
              "0"
            ]
          },
          "metadata": {},
          "execution_count": 62
        }
      ]
    },
    {
      "cell_type": "code",
      "source": [
        "x_all, y_all = df.iloc[:, df.columns!='age_at_MRI'], df['age_at_MRI'], \n",
        "x_train, x_test, y_train, y_test = train_test_split(x_all, y_all, test_size=0.2, random_state=0)"
      ],
      "metadata": {
        "id": "QUwv1VA4JCgm"
      },
      "execution_count": 63,
      "outputs": []
    },
    {
      "cell_type": "code",
      "source": [
        "best_creg  = train_with_hyp_search(x_train, y_train, esttype='catb', n_trials=30)"
      ],
      "metadata": {
        "colab": {
          "base_uri": "https://localhost:8080/"
        },
        "id": "icD6yFbf7_XQ",
        "outputId": "15ae9920-6050-49e6-b74e-17c553c1ec55"
      },
      "execution_count": null,
      "outputs": [
        {
          "output_type": "stream",
          "name": "stderr",
          "text": [
            "\u001b[32m[I 2022-06-09 07:27:18,061]\u001b[0m A new study created in RDB with name: catb\u001b[0m\n"
          ]
        },
        {
          "output_type": "stream",
          "name": "stdout",
          "text": [
            "Running trial 0\n",
            "Learning rate set to 0.003698\n",
            "0:\tlearn: 7.2927696\ttest: 6.7203045\tbest: 6.7203045 (0)\ttotal: 42.8ms\tremaining: 1h 11m 19s\n",
            "1000:\tlearn: 5.3641452\ttest: 5.4879250\tbest: 5.4879250 (1000)\ttotal: 47s\tremaining: 1h 17m 25s\n"
          ]
        }
      ]
    },
    {
      "cell_type": "code",
      "source": [
        "y_pred = best_creg.predict(x_test)\n",
        "err = np.abs(y_pred - y_test).mean()\n",
        "print(\"MAE on test set\", err)"
      ],
      "metadata": {
        "id": "bl6Mn72o_GmR"
      },
      "execution_count": null,
      "outputs": []
    },
    {
      "cell_type": "code",
      "source": [
        "df_rf = pd.read_csv('synthetic_db_with_risk_factors.csv')\n",
        "x_rf = df_rf[x_all.columns]\n",
        "y_rf = df_rf['age_at_MRI']\n",
        "df_rf.isna().any(1).sum()"
      ],
      "metadata": {
        "id": "bk9HSKt_TCHI"
      },
      "execution_count": null,
      "outputs": []
    },
    {
      "cell_type": "code",
      "source": [
        "best_creg_bc = BiasCorrectEstimatorCole(best_creg, x_rf, y_rf)\n",
        "y_rf_pred = best_creg_bc.predict(x_rf)\n",
        "\n",
        "df_rf['ca_delta'] = y_rf_pred - y_rf"
      ],
      "metadata": {
        "id": "qwB6wTvaR-v6"
      },
      "execution_count": null,
      "outputs": []
    },
    {
      "cell_type": "code",
      "source": [
        "reg = smf.ols(formula='ca_delta ~ rf_diabetes*sex + age_at_MRI + age_at_MRI^2', data=df_rf).fit()\n",
        "\n",
        "reg.summary()"
      ],
      "metadata": {
        "id": "dMbTCCaDVUoJ"
      },
      "execution_count": null,
      "outputs": []
    }
  ]
}